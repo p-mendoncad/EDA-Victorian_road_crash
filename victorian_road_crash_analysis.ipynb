{
 "cells": [
  {
   "cell_type": "markdown",
   "id": "9e512ff7-36c9-4d01-bd26-a820399b560d",
   "metadata": {},
   "source": [
    "## 1. Introdução"
   ]
  },
  {
   "cell_type": "markdown",
   "id": "75499eb1-3763-4a73-b4f9-1e5662515ce7",
   "metadata": {},
   "source": [
    "***\n",
    "A análise abaixo foi realizada utilizando os dados dos acidentes de trânsito que ocorreram no estado de Vitória na Austrália no período de 2012 - 2023 disponibilizados no seguinte link: https://www.kaggle.com/datasets/jaspreetkhokhar/victoria-road-crash-data-2012-2023\n",
    "***\n",
    "A pretenção dessa análise é identificar as principais causas de acidente, quando ocorre o maior número de acidentes e os tipos de acidentes que mais ocorrem. Ademais, procura encontrar se há alguma relação entre esses fatores.\n",
    "***\n",
    "#### Perguntas as serem respondidas:\n",
    "- Qual o tipo de acidente mais comum?\n",
    "- Qual a principal causa dos acidentes?\n",
    "- O número de acidentes vem reduzindo com o passar do tempo?\n",
    "- Que tipo de acidente mais ocorreu em cada ano?\n",
    "***"
   ]
  },
  {
   "cell_type": "markdown",
   "id": "1402a2d1-376d-45d1-9bc7-9b029d2e92c2",
   "metadata": {},
   "source": [
    "## 2. Carregando Bibliotecas"
   ]
  },
  {
   "cell_type": "code",
   "execution_count": 5,
   "id": "96f5f16c-fe3e-41ac-98a6-086bcaf87a28",
   "metadata": {},
   "outputs": [],
   "source": [
    "import pandas as pd\n",
    "import numpy as np\n",
    "import sqlite3\n",
    "\n",
    "import seaborn as sns\n",
    "import matplotlib.pyplot as plt\n",
    "\n",
    "plt.style.use('ggplot')"
   ]
  },
  {
   "cell_type": "markdown",
   "id": "fef761ad-5c0f-40e0-8a13-4abdb8e3c3e2",
   "metadata": {},
   "source": [
    "## 3. Carregando Dataset"
   ]
  },
  {
   "cell_type": "code",
   "execution_count": 7,
   "id": "20d76839-6c4b-4ce4-afb1-12ef077f4e24",
   "metadata": {},
   "outputs": [],
   "source": [
    "#rc = road crash\n",
    "rc = pd.read_csv('Vic_Road_Crash_Data.csv')\n",
    "df = pd.DataFrame(rc)"
   ]
  },
  {
   "cell_type": "code",
   "execution_count": 8,
   "id": "7ddab295-83af-473a-8f8a-09e6a1df04c2",
   "metadata": {},
   "outputs": [
    {
     "data": {
      "text/plain": [
       "Index(['ACCIDENT_NO', 'ACCIDENT_DATE', 'ACCIDENT_TIME', 'ACCIDENT_TYPE',\n",
       "       'ACCIDENT_TYPE_DESC', 'DAY_OF_WEEK', 'DAY_WEEK_DESC', 'DCA_CODE',\n",
       "       'DCA_DESC', 'LIGHT_CONDITION', 'NODE_ID', 'ROAD_GEOMETRY_DESC',\n",
       "       'SEVERITY', 'SPEED_ZONE', 'RMA'],\n",
       "      dtype='object')"
      ]
     },
     "execution_count": 8,
     "metadata": {},
     "output_type": "execute_result"
    }
   ],
   "source": [
    "rc.columns"
   ]
  },
  {
   "cell_type": "code",
   "execution_count": 9,
   "id": "b4f8f0bb-9f14-40cf-8442-0ef3002bfc3d",
   "metadata": {},
   "outputs": [
    {
     "data": {
      "text/html": [
       "<div>\n",
       "<style scoped>\n",
       "    .dataframe tbody tr th:only-of-type {\n",
       "        vertical-align: middle;\n",
       "    }\n",
       "\n",
       "    .dataframe tbody tr th {\n",
       "        vertical-align: top;\n",
       "    }\n",
       "\n",
       "    .dataframe thead th {\n",
       "        text-align: right;\n",
       "    }\n",
       "</style>\n",
       "<table border=\"1\" class=\"dataframe\">\n",
       "  <thead>\n",
       "    <tr style=\"text-align: right;\">\n",
       "      <th></th>\n",
       "      <th>ACCIDENT_NO</th>\n",
       "      <th>ACCIDENT_DATE</th>\n",
       "      <th>ACCIDENT_TIME</th>\n",
       "      <th>ACCIDENT_TYPE</th>\n",
       "      <th>ACCIDENT_TYPE_DESC</th>\n",
       "      <th>DAY_OF_WEEK</th>\n",
       "      <th>DAY_WEEK_DESC</th>\n",
       "      <th>DCA_CODE</th>\n",
       "      <th>DCA_DESC</th>\n",
       "      <th>LIGHT_CONDITION</th>\n",
       "      <th>NODE_ID</th>\n",
       "      <th>ROAD_GEOMETRY_DESC</th>\n",
       "      <th>SEVERITY</th>\n",
       "      <th>SPEED_ZONE</th>\n",
       "      <th>RMA</th>\n",
       "    </tr>\n",
       "  </thead>\n",
       "  <tbody>\n",
       "    <tr>\n",
       "      <th>0</th>\n",
       "      <td>T20120000060</td>\n",
       "      <td>1/1/2012</td>\n",
       "      <td>19:40:00</td>\n",
       "      <td>6</td>\n",
       "      <td>Vehicle overturned (no collision)</td>\n",
       "      <td>1</td>\n",
       "      <td>Sunday</td>\n",
       "      <td>184</td>\n",
       "      <td>OUT OF CONTROL ON CARRIAGEWAY (ON BEND)</td>\n",
       "      <td>1</td>\n",
       "      <td>248602</td>\n",
       "      <td>T intersection</td>\n",
       "      <td>2</td>\n",
       "      <td>60</td>\n",
       "      <td>Local Road</td>\n",
       "    </tr>\n",
       "    <tr>\n",
       "      <th>1</th>\n",
       "      <td>T20120000028</td>\n",
       "      <td>1/1/2012</td>\n",
       "      <td>04:00:00</td>\n",
       "      <td>4</td>\n",
       "      <td>Collision with a fixed object</td>\n",
       "      <td>1</td>\n",
       "      <td>Sunday</td>\n",
       "      <td>183</td>\n",
       "      <td>OFF LEFT BEND INTO OBJECT/PARKED VEHICLE</td>\n",
       "      <td>5</td>\n",
       "      <td>248598</td>\n",
       "      <td>T intersection</td>\n",
       "      <td>2</td>\n",
       "      <td>100</td>\n",
       "      <td>Local Road</td>\n",
       "    </tr>\n",
       "    <tr>\n",
       "      <th>2</th>\n",
       "      <td>T20120000021</td>\n",
       "      <td>1/1/2012</td>\n",
       "      <td>07:30:00</td>\n",
       "      <td>4</td>\n",
       "      <td>Collision with a fixed object</td>\n",
       "      <td>1</td>\n",
       "      <td>Sunday</td>\n",
       "      <td>171</td>\n",
       "      <td>LEFT OFF CARRIAGEWAY INTO OBJECT/PARKED VEHICLE</td>\n",
       "      <td>1</td>\n",
       "      <td>248597</td>\n",
       "      <td>Not at intersection</td>\n",
       "      <td>3</td>\n",
       "      <td>50</td>\n",
       "      <td>Local Road</td>\n",
       "    </tr>\n",
       "    <tr>\n",
       "      <th>3</th>\n",
       "      <td>T20120000056</td>\n",
       "      <td>1/1/2012</td>\n",
       "      <td>16:15:00</td>\n",
       "      <td>4</td>\n",
       "      <td>Collision with a fixed object</td>\n",
       "      <td>1</td>\n",
       "      <td>Sunday</td>\n",
       "      <td>183</td>\n",
       "      <td>OFF LEFT BEND INTO OBJECT/PARKED VEHICLE</td>\n",
       "      <td>1</td>\n",
       "      <td>249133</td>\n",
       "      <td>T intersection</td>\n",
       "      <td>2</td>\n",
       "      <td>100</td>\n",
       "      <td>Local Road</td>\n",
       "    </tr>\n",
       "    <tr>\n",
       "      <th>4</th>\n",
       "      <td>T20120000018</td>\n",
       "      <td>1/1/2012</td>\n",
       "      <td>05:15:00</td>\n",
       "      <td>4</td>\n",
       "      <td>Collision with a fixed object</td>\n",
       "      <td>1</td>\n",
       "      <td>Sunday</td>\n",
       "      <td>173</td>\n",
       "      <td>RIGHT OFF CARRIAGEWAY INTO OBJECT/PARKED VEHICLE</td>\n",
       "      <td>5</td>\n",
       "      <td>22636</td>\n",
       "      <td>Cross intersection</td>\n",
       "      <td>3</td>\n",
       "      <td>100</td>\n",
       "      <td>Arterial Highway</td>\n",
       "    </tr>\n",
       "  </tbody>\n",
       "</table>\n",
       "</div>"
      ],
      "text/plain": [
       "    ACCIDENT_NO ACCIDENT_DATE ACCIDENT_TIME  ACCIDENT_TYPE  \\\n",
       "0  T20120000060      1/1/2012      19:40:00              6   \n",
       "1  T20120000028      1/1/2012      04:00:00              4   \n",
       "2  T20120000021      1/1/2012      07:30:00              4   \n",
       "3  T20120000056      1/1/2012      16:15:00              4   \n",
       "4  T20120000018      1/1/2012      05:15:00              4   \n",
       "\n",
       "                  ACCIDENT_TYPE_DESC  DAY_OF_WEEK DAY_WEEK_DESC  DCA_CODE  \\\n",
       "0  Vehicle overturned (no collision)            1        Sunday       184   \n",
       "1      Collision with a fixed object            1        Sunday       183   \n",
       "2      Collision with a fixed object            1        Sunday       171   \n",
       "3      Collision with a fixed object            1        Sunday       183   \n",
       "4      Collision with a fixed object            1        Sunday       173   \n",
       "\n",
       "                                           DCA_DESC  LIGHT_CONDITION  NODE_ID  \\\n",
       "0           OUT OF CONTROL ON CARRIAGEWAY (ON BEND)                1   248602   \n",
       "1          OFF LEFT BEND INTO OBJECT/PARKED VEHICLE                5   248598   \n",
       "2   LEFT OFF CARRIAGEWAY INTO OBJECT/PARKED VEHICLE                1   248597   \n",
       "3          OFF LEFT BEND INTO OBJECT/PARKED VEHICLE                1   249133   \n",
       "4  RIGHT OFF CARRIAGEWAY INTO OBJECT/PARKED VEHICLE                5    22636   \n",
       "\n",
       "    ROAD_GEOMETRY_DESC  SEVERITY  SPEED_ZONE               RMA  \n",
       "0       T intersection         2          60        Local Road  \n",
       "1       T intersection         2         100        Local Road  \n",
       "2  Not at intersection         3          50        Local Road  \n",
       "3       T intersection         2         100        Local Road  \n",
       "4   Cross intersection         3         100  Arterial Highway  "
      ]
     },
     "execution_count": 9,
     "metadata": {},
     "output_type": "execute_result"
    }
   ],
   "source": [
    "rc.head()"
   ]
  },
  {
   "cell_type": "code",
   "execution_count": 10,
   "id": "c07097f9-9db1-49b6-8245-322ea70ed379",
   "metadata": {},
   "outputs": [
    {
     "name": "stdout",
     "output_type": "stream",
     "text": [
      "<class 'pandas.core.frame.DataFrame'>\n",
      "RangeIndex: 152445 entries, 0 to 152444\n",
      "Data columns (total 15 columns):\n",
      " #   Column              Non-Null Count   Dtype \n",
      "---  ------              --------------   ----- \n",
      " 0   ACCIDENT_NO         152445 non-null  object\n",
      " 1   ACCIDENT_DATE       152445 non-null  object\n",
      " 2   ACCIDENT_TIME       152445 non-null  object\n",
      " 3   ACCIDENT_TYPE       152445 non-null  int64 \n",
      " 4   ACCIDENT_TYPE_DESC  152445 non-null  object\n",
      " 5   DAY_OF_WEEK         152445 non-null  int64 \n",
      " 6   DAY_WEEK_DESC       152445 non-null  object\n",
      " 7   DCA_CODE            152445 non-null  int64 \n",
      " 8   DCA_DESC            152445 non-null  object\n",
      " 9   LIGHT_CONDITION     152445 non-null  int64 \n",
      " 10  NODE_ID             152445 non-null  int64 \n",
      " 11  ROAD_GEOMETRY_DESC  152445 non-null  object\n",
      " 12  SEVERITY            152445 non-null  int64 \n",
      " 13  SPEED_ZONE          152445 non-null  int64 \n",
      " 14  RMA                 152445 non-null  object\n",
      "dtypes: int64(7), object(8)\n",
      "memory usage: 17.4+ MB\n"
     ]
    }
   ],
   "source": [
    "rc.info()"
   ]
  },
  {
   "cell_type": "markdown",
   "id": "2f995f87-5dae-41ef-bc41-6166f539e8bf",
   "metadata": {},
   "source": [
    "**Os datatypes estão corretos**"
   ]
  },
  {
   "cell_type": "code",
   "execution_count": 12,
   "id": "e9ef1eb3-fb75-4e75-a6b4-6b52c57faff4",
   "metadata": {},
   "outputs": [
    {
     "data": {
      "text/html": [
       "<div>\n",
       "<style scoped>\n",
       "    .dataframe tbody tr th:only-of-type {\n",
       "        vertical-align: middle;\n",
       "    }\n",
       "\n",
       "    .dataframe tbody tr th {\n",
       "        vertical-align: top;\n",
       "    }\n",
       "\n",
       "    .dataframe thead th {\n",
       "        text-align: right;\n",
       "    }\n",
       "</style>\n",
       "<table border=\"1\" class=\"dataframe\">\n",
       "  <thead>\n",
       "    <tr style=\"text-align: right;\">\n",
       "      <th></th>\n",
       "      <th>ACCIDENT_TYPE</th>\n",
       "      <th>DAY_OF_WEEK</th>\n",
       "      <th>DCA_CODE</th>\n",
       "      <th>LIGHT_CONDITION</th>\n",
       "      <th>NODE_ID</th>\n",
       "      <th>SEVERITY</th>\n",
       "      <th>SPEED_ZONE</th>\n",
       "    </tr>\n",
       "  </thead>\n",
       "  <tbody>\n",
       "    <tr>\n",
       "      <th>count</th>\n",
       "      <td>152445.000000</td>\n",
       "      <td>152445.000000</td>\n",
       "      <td>152445.000000</td>\n",
       "      <td>152445.000000</td>\n",
       "      <td>152445.000000</td>\n",
       "      <td>152445.000000</td>\n",
       "      <td>152445.000000</td>\n",
       "    </tr>\n",
       "    <tr>\n",
       "      <th>mean</th>\n",
       "      <td>2.107980</td>\n",
       "      <td>3.888727</td>\n",
       "      <td>138.135826</td>\n",
       "      <td>1.828745</td>\n",
       "      <td>304940.779888</td>\n",
       "      <td>2.593407</td>\n",
       "      <td>67.038834</td>\n",
       "    </tr>\n",
       "    <tr>\n",
       "      <th>std</th>\n",
       "      <td>1.880543</td>\n",
       "      <td>1.983988</td>\n",
       "      <td>25.813233</td>\n",
       "      <td>1.538316</td>\n",
       "      <td>251440.025570</td>\n",
       "      <td>0.524761</td>\n",
       "      <td>17.853081</td>\n",
       "    </tr>\n",
       "    <tr>\n",
       "      <th>min</th>\n",
       "      <td>1.000000</td>\n",
       "      <td>0.000000</td>\n",
       "      <td>100.000000</td>\n",
       "      <td>1.000000</td>\n",
       "      <td>4.000000</td>\n",
       "      <td>1.000000</td>\n",
       "      <td>30.000000</td>\n",
       "    </tr>\n",
       "    <tr>\n",
       "      <th>25%</th>\n",
       "      <td>1.000000</td>\n",
       "      <td>2.000000</td>\n",
       "      <td>120.000000</td>\n",
       "      <td>1.000000</td>\n",
       "      <td>49775.000000</td>\n",
       "      <td>2.000000</td>\n",
       "      <td>60.000000</td>\n",
       "    </tr>\n",
       "    <tr>\n",
       "      <th>50%</th>\n",
       "      <td>1.000000</td>\n",
       "      <td>4.000000</td>\n",
       "      <td>130.000000</td>\n",
       "      <td>1.000000</td>\n",
       "      <td>278386.000000</td>\n",
       "      <td>3.000000</td>\n",
       "      <td>60.000000</td>\n",
       "    </tr>\n",
       "    <tr>\n",
       "      <th>75%</th>\n",
       "      <td>3.000000</td>\n",
       "      <td>6.000000</td>\n",
       "      <td>167.000000</td>\n",
       "      <td>2.000000</td>\n",
       "      <td>358189.000000</td>\n",
       "      <td>3.000000</td>\n",
       "      <td>80.000000</td>\n",
       "    </tr>\n",
       "    <tr>\n",
       "      <th>max</th>\n",
       "      <td>9.000000</td>\n",
       "      <td>7.000000</td>\n",
       "      <td>199.000000</td>\n",
       "      <td>9.000000</td>\n",
       "      <td>800990.000000</td>\n",
       "      <td>4.000000</td>\n",
       "      <td>100.000000</td>\n",
       "    </tr>\n",
       "  </tbody>\n",
       "</table>\n",
       "</div>"
      ],
      "text/plain": [
       "       ACCIDENT_TYPE    DAY_OF_WEEK       DCA_CODE  LIGHT_CONDITION  \\\n",
       "count  152445.000000  152445.000000  152445.000000    152445.000000   \n",
       "mean        2.107980       3.888727     138.135826         1.828745   \n",
       "std         1.880543       1.983988      25.813233         1.538316   \n",
       "min         1.000000       0.000000     100.000000         1.000000   \n",
       "25%         1.000000       2.000000     120.000000         1.000000   \n",
       "50%         1.000000       4.000000     130.000000         1.000000   \n",
       "75%         3.000000       6.000000     167.000000         2.000000   \n",
       "max         9.000000       7.000000     199.000000         9.000000   \n",
       "\n",
       "             NODE_ID       SEVERITY     SPEED_ZONE  \n",
       "count  152445.000000  152445.000000  152445.000000  \n",
       "mean   304940.779888       2.593407      67.038834  \n",
       "std    251440.025570       0.524761      17.853081  \n",
       "min         4.000000       1.000000      30.000000  \n",
       "25%     49775.000000       2.000000      60.000000  \n",
       "50%    278386.000000       3.000000      60.000000  \n",
       "75%    358189.000000       3.000000      80.000000  \n",
       "max    800990.000000       4.000000     100.000000  "
      ]
     },
     "execution_count": 12,
     "metadata": {},
     "output_type": "execute_result"
    }
   ],
   "source": [
    "rc.describe()"
   ]
  },
  {
   "cell_type": "markdown",
   "id": "9768b027-8c45-4d60-b13b-4754cf73b8e1",
   "metadata": {},
   "source": [
    "**Os dados se apresentam integros e sem outliers**"
   ]
  },
  {
   "cell_type": "markdown",
   "id": "371eba30-4979-4e5f-a0e3-668886ef4c12",
   "metadata": {},
   "source": [
    "## 4. Limpando os dados"
   ]
  },
  {
   "cell_type": "code",
   "execution_count": 15,
   "id": "f1189dbb-3a5c-4017-a287-8aac4aa506e1",
   "metadata": {},
   "outputs": [
    {
     "name": "stdout",
     "output_type": "stream",
     "text": [
      "Empty DataFrame\n",
      "Columns: [ACCIDENT_NO, ACCIDENT_DATE, ACCIDENT_TIME, ACCIDENT_TYPE, ACCIDENT_TYPE_DESC, DAY_OF_WEEK, DAY_WEEK_DESC, DCA_CODE, DCA_DESC, LIGHT_CONDITION, NODE_ID, ROAD_GEOMETRY_DESC, SEVERITY, SPEED_ZONE, RMA]\n",
      "Index: []\n"
     ]
    }
   ],
   "source": [
    "duplicados = rc[rc.duplicated(keep='first')]\n",
    "print(duplicados)"
   ]
  },
  {
   "cell_type": "markdown",
   "id": "96e05929-5c70-4e75-8e55-33ffe8056d47",
   "metadata": {},
   "source": [
    "**Não foram encontrados dados duplicados**"
   ]
  },
  {
   "cell_type": "code",
   "execution_count": 17,
   "id": "d6970239-4ca9-4e20-84a0-0f83a428052a",
   "metadata": {},
   "outputs": [
    {
     "data": {
      "text/plain": [
       "ACCIDENT_NO           0\n",
       "ACCIDENT_DATE         0\n",
       "ACCIDENT_TIME         0\n",
       "ACCIDENT_TYPE         0\n",
       "ACCIDENT_TYPE_DESC    0\n",
       "DAY_OF_WEEK           0\n",
       "DAY_WEEK_DESC         0\n",
       "DCA_CODE              0\n",
       "DCA_DESC              0\n",
       "LIGHT_CONDITION       0\n",
       "NODE_ID               0\n",
       "ROAD_GEOMETRY_DESC    0\n",
       "SEVERITY              0\n",
       "SPEED_ZONE            0\n",
       "RMA                   0\n",
       "dtype: int64"
      ]
     },
     "execution_count": 17,
     "metadata": {},
     "output_type": "execute_result"
    }
   ],
   "source": [
    "rc.isnull().sum()\n"
   ]
  },
  {
   "cell_type": "markdown",
   "id": "5571f9f4-abe7-4c8c-8447-255cda16b9ca",
   "metadata": {},
   "source": [
    "**Não há dados faltantes**"
   ]
  },
  {
   "cell_type": "markdown",
   "id": "1bf5c1a9-2507-4998-a024-0f014b15cec4",
   "metadata": {},
   "source": [
    "## 5. Analise Univariada"
   ]
  },
  {
   "cell_type": "markdown",
   "id": "f40ba409-b35f-4086-a3bf-b4e178c88e9d",
   "metadata": {},
   "source": [
    "### 5.1 Dia da Semana"
   ]
  },
  {
   "cell_type": "code",
   "execution_count": 21,
   "id": "f5771ef7-e242-4c14-8f7f-d85dcc349e72",
   "metadata": {},
   "outputs": [
    {
     "data": {
      "image/png": "[encoded data removed]",
      "text/plain": [
       "<Figure size 500x500 with 1 Axes>"
      ]
     },
     "metadata": {},
     "output_type": "display_data"
    }
   ],
   "source": [
    "fig, ax = plt.subplots(figsize=(5,5))\n",
    "\n",
    "hist_data= plt.hist(rc.DAY_WEEK_DESC, align='mid', edgecolor='black', bins=7, color = 'r', rwidth = 0.8)\n",
    "ax.set_ylabel('Número de acidentes')\n",
    "ax.set_xlabel('Dias da semana')\n",
    "ax.set_title('Acidentes por dia da semana')\n",
    "plt.yticks([0,2500,5000,7500,10000,12500,15000,17500,20000,22500,25000])\n",
    "ax.set_xticks(hist_data[1][:-1] + 0.4)\n",
    "ax.set_xticklabels(['Mon', 'Tue', 'Wed', 'Thu', 'Fri', 'Sat', 'Sun'])\n",
    "plt.show()"
   ]
  },
  {
   "cell_type": "markdown",
   "id": "d571eba8-eec2-434f-920f-f17989fa5802",
   "metadata": {},
   "source": [
    "***\n",
    "O dia da semana com maior número de acidentes é no sábado, isso pode ocorrer devido a maior circulação de carros de passeio.\n",
    "***"
   ]
  },
  {
   "cell_type": "markdown",
   "id": "3eb318ec-e986-4cfa-8250-c22bf6f665d9",
   "metadata": {},
   "source": [
    "### 5.2 Condição de Luz"
   ]
  },
  {
   "cell_type": "code",
   "execution_count": 24,
   "id": "b57e9349-b7da-4c99-a664-703857e76fd4",
   "metadata": {},
   "outputs": [
    {
     "data": {
      "image/png": "[encoded data removed]",
      "text/plain": [
       "<Figure size 500x500 with 1 Axes>"
      ]
     },
     "metadata": {},
     "output_type": "display_data"
    }
   ],
   "source": [
    "fig, ax = plt.subplots(figsize=(5,5))\n",
    "\n",
    "hist_data= plt.hist(rc.LIGHT_CONDITION, align='mid', edgecolor='black', bins=9, color = 'yellow', rwidth = 0.8)\n",
    "ax.set_xticks(hist_data[1][:-1] + 0.45)\n",
    "ax.set_xticklabels(['1', '2', '3', '4', '5', '6', '7','8','9'])\n",
    "plt.yticks([0,4000,8000,12000,16000,20000,24000,28000,32000,36000,40000,44000,48000,52000,56000,60000,64000,68000,72000,76000,80000,84000,88000,92000,\n",
    "96000,100000])\n",
    "\n",
    "ax.set_ylabel('Número de acidentes')\n",
    "ax.set_xlabel('Intensidade de iluminação')\n",
    "ax.set_title('Condições luminosas dos acidentes')\n",
    "plt.show()"
   ]
  },
  {
   "cell_type": "markdown",
   "id": "90142274-636e-4f14-a0c6-b2b1025cf66a",
   "metadata": {},
   "source": [
    "***\n",
    "A baixa luminosidade se mostra como um fator de risco, tendo em vista que o número de acidentes no menor nível de luminosidade é maior que a soma de todos os outros níveis de luminosidade.\n",
    "***"
   ]
  },
  {
   "cell_type": "markdown",
   "id": "c3ff8697-98a8-4573-9eaf-78ba635ec4a0",
   "metadata": {},
   "source": [
    "### 5.3 Zona de Velocidade"
   ]
  },
  {
   "cell_type": "code",
   "execution_count": 27,
   "id": "80e9561c-0f41-4686-84ec-fe63f44236ec",
   "metadata": {},
   "outputs": [
    {
     "data": {
      "image/png": "[encoded data removed]",
      "text/plain": [
       "<Figure size 500x500 with 1 Axes>"
      ]
     },
     "metadata": {},
     "output_type": "display_data"
    }
   ],
   "source": [
    "fig, ax = plt.subplots(figsize=(5,5))\n",
    "\n",
    "hist_data= plt.hist(rc.SPEED_ZONE, align='mid', bins = 8, edgecolor='black', color = 'orange', rwidth = 0.8)\n",
    "ax.set_xticks(hist_data[1][:-1] + 4.5)\n",
    "ax.set_xticklabels(['30', '40', '50', '60', '70', '80', '90','100'])\n",
    "\n",
    "\n",
    "ax.set_ylabel('Número de acidentes')\n",
    "ax.set_xlabel('km/h')\n",
    "ax.set_title('Zona de velocidade dos acidentes')\n",
    "plt.show()"
   ]
  },
  {
   "cell_type": "markdown",
   "id": "4df900d3-4874-44aa-812d-84cb23c1c53d",
   "metadata": {},
   "source": [
    "***\n",
    "A variável Zona de Velocidade dos acidentes, apresenta maior ocorrência em zonas de 60km/h. Uma possiblidade é que seja uma zona de velocidade mais comum.\n",
    "***"
   ]
  },
  {
   "cell_type": "markdown",
   "id": "d147fb22-45d3-497d-a27b-70f734345c7f",
   "metadata": {},
   "source": [
    "### 5.4 Gravidade"
   ]
  },
  {
   "cell_type": "code",
   "execution_count": 31,
   "id": "4fb61bd5-fdbd-4adb-9ced-83866129cdbf",
   "metadata": {},
   "outputs": [
    {
     "data": {
      "image/png": "[encoded data removed]",
      "text/plain": [
       "<Figure size 500x500 with 1 Axes>"
      ]
     },
     "metadata": {},
     "output_type": "display_data"
    }
   ],
   "source": [
    "fig, ax = plt.subplots(figsize=(5,5))\n",
    "\n",
    "hist_data= plt.hist(rc.SEVERITY, align='mid', edgecolor='black', bins=4, color = 'r', rwidth = 0.8)\n",
    "ax.set_xticks(hist_data[1][:-1] + 0.4)\n",
    "ax.set_xticklabels(['1', '2', '3', '4'])\n",
    "ax.set_ylabel('Número de acidentes')\n",
    "ax.set_xlabel('Gravidade')\n",
    "ax.set_title('Gravidade dos acidentes')\n",
    "plt.show()"
   ]
  },
  {
   "cell_type": "code",
   "execution_count": 32,
   "id": "355927dc-6748-464f-8247-b2bd1b2a1563",
   "metadata": {},
   "outputs": [
    {
     "data": {
      "text/plain": [
       "SEVERITY\n",
       "3    93049\n",
       "2    56797\n",
       "1     2595\n",
       "4        4\n",
       "Name: count, dtype: int64"
      ]
     },
     "execution_count": 32,
     "metadata": {},
     "output_type": "execute_result"
    }
   ],
   "source": [
    "rc.SEVERITY.value_counts()"
   ]
  },
  {
   "cell_type": "markdown",
   "id": "ac89ca2c-d5c1-4ed5-89f1-59a12d85a547",
   "metadata": {},
   "source": [
    "***\n",
    "A maior parte dos acidentes tem nivel de gravidade 2 ou 3 e o número de ocorrências de acidentes de baixa gravidade (1) são expressivamente maiores do que os acidentes de máxima gravidade (4). Todavia, a soma do número de acidentes de gravidade 1 ou 2 ainda é menor que a quantidade total de acidentes de gravidade 3. Logo, os acidentes em sua maioria são acidentes mais graves, caracterizando a estrada como perigosa.\n",
    "***"
   ]
  },
  {
   "cell_type": "markdown",
   "id": "b5ab974e-0f3e-4926-98a7-4f3d952b0c9b",
   "metadata": {},
   "source": [
    "### 5.5 Tipos de Acidente"
   ]
  },
  {
   "cell_type": "code",
   "execution_count": 37,
   "id": "40d139dd-b78c-4607-8617-df362ffc60fa",
   "metadata": {},
   "outputs": [
    {
     "data": {
      "text/plain": [
       "ACCIDENT_TYPE_DESC\n",
       "Collision with vehicle               100648\n",
       "Collision with a fixed object         23430\n",
       "Struck Pedestrian                     12445\n",
       "Vehicle overturned (no collision)      6528\n",
       "No collision and no object struck      5559\n",
       "Struck animal                          1519\n",
       "collision with some other object       1290\n",
       "Fall from or in moving vehicle          894\n",
       "Other accident                          132\n",
       "Name: count, dtype: int64"
      ]
     },
     "execution_count": 37,
     "metadata": {},
     "output_type": "execute_result"
    }
   ],
   "source": [
    "rc.ACCIDENT_TYPE_DESC.value_counts()"
   ]
  },
  {
   "cell_type": "markdown",
   "id": "b12389df-b2b4-4cb1-916f-db5f39100bf4",
   "metadata": {},
   "source": [
    "## 6. Análise Bivariada"
   ]
  },
  {
   "cell_type": "markdown",
   "id": "f4c9f225-7dc7-47ce-bbdb-7f3c873d4942",
   "metadata": {},
   "source": [
    "### 6.1 Tipos de acidente e Severidade"
   ]
  },
  {
   "cell_type": "code",
   "execution_count": 43,
   "id": "349e1e6f-eeed-4024-8f36-08ed41cf73ae",
   "metadata": {},
   "outputs": [
    {
     "data": {
      "image/png": "[encoded data removed]",
      "text/plain": [
       "<Figure size 640x480 with 1 Axes>"
      ]
     },
     "metadata": {},
     "output_type": "display_data"
    }
   ],
   "source": [
    "scatter_data = sns.scatterplot(x='ACCIDENT_TYPE', y='SEVERITY', data = rc)"
   ]
  },
  {
   "cell_type": "markdown",
   "id": "d0b3d25f-becd-49c1-9115-03785e38fd90",
   "metadata": {},
   "source": [
    "***\n",
    "A partir desse gráfico de dispersão podemos perceber que o único tipo de acidente que teve a severidade máxima foram as colisões com outro veículo.\n",
    "***\n"
   ]
  },
  {
   "cell_type": "code",
   "execution_count": 47,
   "id": "81efe0b6-dd06-4752-8e2d-5aa96f7d2fbe",
   "metadata": {},
   "outputs": [
    {
     "name": "stdout",
     "output_type": "stream",
     "text": [
      "         ACCIDENT_NO ACCIDENT_DATE ACCIDENT_TIME  ACCIDENT_TYPE  \\\n",
      "377     T20120001019     14/1/2012      22:30:00              2   \n",
      "608     T20120001566     21/1/2012      23:30:00              2   \n",
      "611     T20120001571     21/1/2012      23:40:00              2   \n",
      "627     T20120001553     21/1/2012      18:00:00              2   \n",
      "868     T20120003312     28/1/2012      20:00:00              2   \n",
      "...              ...           ...           ...            ...   \n",
      "152212  T20230022292     23/9/2023      10:00:00              2   \n",
      "152214  T20230022277     23/9/2023      01:44:00              2   \n",
      "152411  T20230022841     30/9/2023      11:00:00              2   \n",
      "152414  T20230022844     30/9/2023      11:00:00              2   \n",
      "152419  T20230023083     30/9/2023      23:10:00              2   \n",
      "\n",
      "       ACCIDENT_TYPE_DESC  DAY_OF_WEEK DAY_WEEK_DESC  DCA_CODE  \\\n",
      "377     Struck Pedestrian            7      Saturday       104   \n",
      "608     Struck Pedestrian            7      Saturday       102   \n",
      "611     Struck Pedestrian            7      Saturday       100   \n",
      "627     Struck Pedestrian            7      Saturday       100   \n",
      "868     Struck Pedestrian            7      Saturday       103   \n",
      "...                   ...          ...           ...       ...   \n",
      "152212  Struck Pedestrian            7      Saturday       102   \n",
      "152214  Struck Pedestrian            7      Saturday       102   \n",
      "152411  Struck Pedestrian            6      Saturday       100   \n",
      "152414  Struck Pedestrian            7      Saturday       109   \n",
      "152419  Struck Pedestrian            6      Saturday       100   \n",
      "\n",
      "                                                 DCA_DESC  LIGHT_CONDITION  \\\n",
      "377                              PED WALKING WITH TRAFFIC                3   \n",
      "608            FAR SIDE. PED HIT BY VEHICLE FROM THE LEFT                3   \n",
      "611     PED NEAR SIDE. PED HIT BY VEHICLE FROM THE RIGHT.                3   \n",
      "627     PED NEAR SIDE. PED HIT BY VEHICLE FROM THE RIGHT.                1   \n",
      "868     PED PLAYING/LYING/WORKING/STANDING ON CARRIAGE...                3   \n",
      "...                                                   ...              ...   \n",
      "152212         FAR SIDE. PED HIT BY VEHICLE FROM THE LEFT                1   \n",
      "152214         FAR SIDE. PED HIT BY VEHICLE FROM THE LEFT                3   \n",
      "152411  PED NEAR SIDE. PED HIT BY VEHICLE FROM THE RIGHT.                1   \n",
      "152414  ANY MANOEUVRE INVOLVING PED NOT INCLUDED IN DC...                1   \n",
      "152419  PED NEAR SIDE. PED HIT BY VEHICLE FROM THE RIGHT.                3   \n",
      "\n",
      "        NODE_ID   ROAD_GEOMETRY_DESC  SEVERITY  SPEED_ZONE               RMA  \n",
      "377      249028  Not at intersection         3          70  Arterial Highway  \n",
      "608       42027       T intersection         2          60    Arterial Other  \n",
      "611       53276       T intersection         3          60    Arterial Other  \n",
      "627       37402   Cross intersection         2          60    Arterial Other  \n",
      "868      249609  Not at intersection         3          60        Local Road  \n",
      "...         ...                  ...       ...         ...               ...  \n",
      "152212   782033  Not at intersection         1          50        Local Road  \n",
      "152214   781764  Not at intersection         2          50        Local Road  \n",
      "152411   790536  Not at intersection         3          60    Arterial Other  \n",
      "152414   791217  Not at intersection         3          30  Arterial Highway  \n",
      "152419   798257  Not at intersection         3          60    Arterial Other  \n",
      "\n",
      "[1597 rows x 15 columns]\n"
     ]
    }
   ],
   "source": [
    "query = rc.query(\"ACCIDENT_TYPE == 2 and DAY_WEEK_DESC == 'Saturday'\")\n",
    "print(query)"
   ]
  },
  {
   "cell_type": "code",
   "execution_count": 48,
   "id": "c401f57a-97b9-4dbe-811e-994d1c9ff6fe",
   "metadata": {},
   "outputs": [
    {
     "name": "stdout",
     "output_type": "stream",
     "text": [
      "         ACCIDENT_NO ACCIDENT_DATE ACCIDENT_TIME  ACCIDENT_TYPE  \\\n",
      "40      T20120000084      2/1/2012      12:00:00              2   \n",
      "209     T20120000603      9/1/2012      19:00:00              2   \n",
      "212     T20120000574      9/1/2012      12:46:00              2   \n",
      "222     T20120000581      9/1/2012      08:58:00              2   \n",
      "224     T20120000578      9/1/2012      13:15:00              2   \n",
      "...              ...           ...           ...            ...   \n",
      "151544  T20230020720      4/9/2023      21:10:00              2   \n",
      "152010  T20230021849     18/9/2023      12:03:00              2   \n",
      "152244  T20230022444     25/9/2023      14:00:00              2   \n",
      "152248  T20230022588     25/9/2023      07:30:00              2   \n",
      "152268  T20230022473     25/9/2023      15:30:00              2   \n",
      "\n",
      "       ACCIDENT_TYPE_DESC  DAY_OF_WEEK DAY_WEEK_DESC  DCA_CODE  \\\n",
      "40      Struck Pedestrian            2        Monday       104   \n",
      "209     Struck Pedestrian            2        Monday       102   \n",
      "212     Struck Pedestrian            2        Monday       100   \n",
      "222     Struck Pedestrian            2        Monday       109   \n",
      "224     Struck Pedestrian            2        Monday       102   \n",
      "...                   ...          ...           ...       ...   \n",
      "151544  Struck Pedestrian            2        Monday       100   \n",
      "152010  Struck Pedestrian            1        Monday       103   \n",
      "152244  Struck Pedestrian            2        Monday       100   \n",
      "152248  Struck Pedestrian            1        Monday       100   \n",
      "152268  Struck Pedestrian            2        Monday       100   \n",
      "\n",
      "                                                 DCA_DESC  LIGHT_CONDITION  \\\n",
      "40                               PED WALKING WITH TRAFFIC                1   \n",
      "209            FAR SIDE. PED HIT BY VEHICLE FROM THE LEFT                2   \n",
      "212     PED NEAR SIDE. PED HIT BY VEHICLE FROM THE RIGHT.                1   \n",
      "222     ANY MANOEUVRE INVOLVING PED NOT INCLUDED IN DC...                1   \n",
      "224            FAR SIDE. PED HIT BY VEHICLE FROM THE LEFT                1   \n",
      "...                                                   ...              ...   \n",
      "151544  PED NEAR SIDE. PED HIT BY VEHICLE FROM THE RIGHT.                6   \n",
      "152010  PED PLAYING/LYING/WORKING/STANDING ON CARRIAGE...                1   \n",
      "152244  PED NEAR SIDE. PED HIT BY VEHICLE FROM THE RIGHT.                1   \n",
      "152248  PED NEAR SIDE. PED HIT BY VEHICLE FROM THE RIGHT.                1   \n",
      "152268  PED NEAR SIDE. PED HIT BY VEHICLE FROM THE RIGHT.                1   \n",
      "\n",
      "        NODE_ID   ROAD_GEOMETRY_DESC  SEVERITY  SPEED_ZONE             RMA  \n",
      "40       248895  Not at intersection         3          80      Local Road  \n",
      "209      273252       T intersection         3          50      Local Road  \n",
      "212      136043  Not at intersection         3          50      Local Road  \n",
      "222       41177       T intersection         3          50      Local Road  \n",
      "224      273251  Not at intersection         3          50      Local Road  \n",
      "...         ...                  ...       ...         ...             ...  \n",
      "151544   780472  Not at intersection         2          50      Local Road  \n",
      "152010   781058  Not at intersection         3          50      Local Road  \n",
      "152244    63547   Cross intersection         3          40  Arterial Other  \n",
      "152248    46174       T intersection         3          40  Arterial Other  \n",
      "152268   790964  Not at intersection         3          50      Local Road  \n",
      "\n",
      "[1694 rows x 15 columns]\n"
     ]
    }
   ],
   "source": [
    "query = rc.query(\"ACCIDENT_TYPE == 2 and DAY_WEEK_DESC=='Monday'\")\n",
    "print(query)"
   ]
  },
  {
   "cell_type": "markdown",
   "id": "d7f1cfc9-408b-431e-aa21-6dda6cc0451c",
   "metadata": {},
   "source": [
    "***\n",
    "Apesar de o número de acidentes ser menor na segunda-feira (dia da semana com menor ocorrência de acidentes) há maior ocorrência de colisão de veículos com objetos parados do que no sábado (dia com maior ocorrência de acidentes).\n",
    "***"
   ]
  },
  {
   "cell_type": "code",
   "execution_count": 141,
   "id": "009c2c8c-01c8-4a95-8d17-5e3ffcf54b48",
   "metadata": {},
   "outputs": [
    {
     "name": "stdout",
     "output_type": "stream",
     "text": [
      "2012: 96\n",
      "2013: 102\n",
      "2014: 73\n",
      "2015: 92\n",
      "2016: 125\n",
      "2017: 78\n",
      "2018: 90\n",
      "2019: 130\n",
      "2020: 140\n",
      "2021: 156\n",
      "2022: 133\n",
      "2023: 75\n"
     ]
    }
   ],
   "source": [
    "for year in range(2012, 2024):\n",
    "    query = rc[(rc['ACCIDENT_TYPE'] == 5) & (rc['ACCIDENT_DATE'].str.contains(str(year)))]\n",
    "    print(f\"{year}: {query.shape[0]}\")"
   ]
  },
  {
   "cell_type": "code",
   "execution_count": null,
   "id": "786ddc33-9c80-44ff-95c9-62de815cd716",
   "metadata": {},
   "outputs": [],
   "source": []
  }
 ],
 "metadata": {
  "kernelspec": {
   "display_name": "Python 3 (ipykernel)",
   "language": "python",
   "name": "python3"
  },
  "language_info": {
   "codemirror_mode": {
    "name": "ipython",
    "version": 3
   },
   "file_extension": ".py",
   "mimetype": "text/x-python",
   "name": "python",
   "nbconvert_exporter": "python",
   "pygments_lexer": "ipython3",
   "version": "3.12.4"
  }
 },
 "nbformat": 4,
 "nbformat_minor": 5
}
